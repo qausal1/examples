{
 "cells": [
  {
   "attachments": {},
   "cell_type": "markdown",
   "id": "1cb83453-e3f0-4633-aadc-f1d4fb3e1908",
   "metadata": {
    "jp-MarkdownHeadingCollapsed": true,
    "tags": []
   },
   "source": [
    "## 1. Install and import required Libararies\n",
    "We get secret key after signing up to QausalAI"
   ]
  },
  {
   "cell_type": "code",
   "execution_count": 1,
   "id": "16891fa2-3a30-4648-bbbc-664e10c443be",
   "metadata": {
    "tags": []
   },
   "outputs": [],
   "source": [
    "!pip install -qq matplotlib\n",
    "!pip install -qq scikit-learn\n",
    "!pip install -qq pandas\n",
    "!pip install -qq mmanager"
   ]
  },
  {
   "cell_type": "code",
   "execution_count": 2,
   "id": "1da0095c-7caa-4856-aa4b-37901f3c21bd",
   "metadata": {
    "tags": []
   },
   "outputs": [],
   "source": [
    "import numpy as np\n",
    "import pandas as pd\n",
    "import pandas as pd\n",
    "import matplotlib.pyplot as plt\n",
    " \n",
    "from sklearn.model_selection import train_test_split\n",
    "from sklearn.datasets import fetch_california_housing\n",
    " \n",
    "from sklearn.ensemble import RandomForestRegressor\n",
    "from sklearn.metrics import mean_squared_error"
   ]
  },
  {
   "cell_type": "code",
   "execution_count": 3,
   "id": "d0f4ed66-943e-485e-91ae-36aab55222d0",
   "metadata": {
    "tags": []
   },
   "outputs": [],
   "source": [
    "# LOAD YOUR SECRET KEY AND BASE URL\n",
    "import json\n",
    "y=json.load(open('secret_key.json'))\n",
    "secret_key=y['qausal_key']\n",
    "url=y['base_url']"
   ]
  },
  {
   "attachments": {},
   "cell_type": "markdown",
   "id": "d61482a1-0d4c-45c9-81e0-0644e6bada94",
   "metadata": {
    "jp-MarkdownHeadingCollapsed": true,
    "tags": []
   },
   "source": [
    "## 2. Load and Preprocess the Data: "
   ]
  },
  {
   "cell_type": "code",
   "execution_count": 4,
   "id": "2bf42edf-443f-4b9c-9fa8-632524b9d61b",
   "metadata": {
    "tags": []
   },
   "outputs": [],
   "source": [
    "cal_housing = fetch_california_housing()\n",
    " \n",
    "# split 80/20 train-test\n",
    "X_train, X_test, y_train, y_test = train_test_split(cal_housing.data,\n",
    "                                                    cal_housing.target,\n",
    "                                                    test_size=0.2)\n"
   ]
  },
  {
   "cell_type": "code",
   "execution_count": 5,
   "id": "3576333e-dcd4-4a95-a348-b3acdfd44800",
   "metadata": {
    "tags": []
   },
   "outputs": [
    {
     "name": "stdout",
     "output_type": "stream",
     "text": [
      "(16512, 8) (4128, 8) (16512,) (4128,)\n"
     ]
    }
   ],
   "source": [
    "print(X_train.shape,X_test.shape,y_train.shape,y_test.shape)"
   ]
  },
  {
   "cell_type": "code",
   "execution_count": 6,
   "id": "6006925a-2242-4e43-b54b-f016c3c5c8b1",
   "metadata": {
    "tags": []
   },
   "outputs": [
    {
     "data": {
      "text/plain": [
       "['MedInc',\n",
       " 'HouseAge',\n",
       " 'AveRooms',\n",
       " 'AveBedrms',\n",
       " 'Population',\n",
       " 'AveOccup',\n",
       " 'Latitude',\n",
       " 'Longitude']"
      ]
     },
     "execution_count": 6,
     "metadata": {},
     "output_type": "execute_result"
    }
   ],
   "source": [
    "cal_housing.feature_names"
   ]
  },
  {
   "cell_type": "code",
   "execution_count": 7,
   "id": "ad50ffff-4388-4663-a788-7e208cd57e80",
   "metadata": {
    "tags": []
   },
   "outputs": [
    {
     "data": {
      "text/plain": [
       "['MedHouseVal']"
      ]
     },
     "execution_count": 7,
     "metadata": {},
     "output_type": "execute_result"
    }
   ],
   "source": [
    "cal_housing.target_names"
   ]
  },
  {
   "attachments": {},
   "cell_type": "markdown",
   "id": "34e2b83b-3f03-484a-b61a-65e9f5071267",
   "metadata": {},
   "source": [
    "<b> Create train, test, actual datasets for modelManager:</b>"
   ]
  },
  {
   "cell_type": "code",
   "execution_count": 8,
   "id": "abd629ef-e04e-4cf9-81ad-741612104ef9",
   "metadata": {
    "tags": []
   },
   "outputs": [
    {
     "data": {
      "text/html": [
       "<div>\n",
       "<style scoped>\n",
       "    .dataframe tbody tr th:only-of-type {\n",
       "        vertical-align: middle;\n",
       "    }\n",
       "\n",
       "    .dataframe tbody tr th {\n",
       "        vertical-align: top;\n",
       "    }\n",
       "\n",
       "    .dataframe thead th {\n",
       "        text-align: right;\n",
       "    }\n",
       "</style>\n",
       "<table border=\"1\" class=\"dataframe\">\n",
       "  <thead>\n",
       "    <tr style=\"text-align: right;\">\n",
       "      <th></th>\n",
       "      <th>MedInc</th>\n",
       "      <th>HouseAge</th>\n",
       "      <th>AveRooms</th>\n",
       "      <th>AveBedrms</th>\n",
       "      <th>Population</th>\n",
       "      <th>AveOccup</th>\n",
       "      <th>Latitude</th>\n",
       "      <th>Longitude</th>\n",
       "      <th>MedHouseVal</th>\n",
       "    </tr>\n",
       "  </thead>\n",
       "  <tbody>\n",
       "    <tr>\n",
       "      <th>0</th>\n",
       "      <td>6.1388</td>\n",
       "      <td>30.0</td>\n",
       "      <td>5.930269</td>\n",
       "      <td>1.003170</td>\n",
       "      <td>1721.0</td>\n",
       "      <td>2.727417</td>\n",
       "      <td>37.33</td>\n",
       "      <td>-121.98</td>\n",
       "      <td>3.024</td>\n",
       "    </tr>\n",
       "    <tr>\n",
       "      <th>1</th>\n",
       "      <td>2.8000</td>\n",
       "      <td>34.0</td>\n",
       "      <td>4.553531</td>\n",
       "      <td>0.972665</td>\n",
       "      <td>2391.0</td>\n",
       "      <td>5.446469</td>\n",
       "      <td>34.28</td>\n",
       "      <td>-118.42</td>\n",
       "      <td>1.443</td>\n",
       "    </tr>\n",
       "    <tr>\n",
       "      <th>2</th>\n",
       "      <td>4.5179</td>\n",
       "      <td>25.0</td>\n",
       "      <td>5.401180</td>\n",
       "      <td>1.017699</td>\n",
       "      <td>809.0</td>\n",
       "      <td>2.386431</td>\n",
       "      <td>33.81</td>\n",
       "      <td>-118.01</td>\n",
       "      <td>1.771</td>\n",
       "    </tr>\n",
       "    <tr>\n",
       "      <th>3</th>\n",
       "      <td>3.1361</td>\n",
       "      <td>16.0</td>\n",
       "      <td>5.339332</td>\n",
       "      <td>0.997429</td>\n",
       "      <td>1155.0</td>\n",
       "      <td>2.969152</td>\n",
       "      <td>40.09</td>\n",
       "      <td>-122.38</td>\n",
       "      <td>0.848</td>\n",
       "    </tr>\n",
       "    <tr>\n",
       "      <th>4</th>\n",
       "      <td>0.4999</td>\n",
       "      <td>52.0</td>\n",
       "      <td>2.600000</td>\n",
       "      <td>0.733333</td>\n",
       "      <td>74.0</td>\n",
       "      <td>1.644444</td>\n",
       "      <td>33.93</td>\n",
       "      <td>-118.28</td>\n",
       "      <td>0.906</td>\n",
       "    </tr>\n",
       "    <tr>\n",
       "      <th>...</th>\n",
       "      <td>...</td>\n",
       "      <td>...</td>\n",
       "      <td>...</td>\n",
       "      <td>...</td>\n",
       "      <td>...</td>\n",
       "      <td>...</td>\n",
       "      <td>...</td>\n",
       "      <td>...</td>\n",
       "      <td>...</td>\n",
       "    </tr>\n",
       "    <tr>\n",
       "      <th>16507</th>\n",
       "      <td>2.8042</td>\n",
       "      <td>19.0</td>\n",
       "      <td>3.935849</td>\n",
       "      <td>1.084906</td>\n",
       "      <td>1701.0</td>\n",
       "      <td>3.209434</td>\n",
       "      <td>34.41</td>\n",
       "      <td>-119.70</td>\n",
       "      <td>2.361</td>\n",
       "    </tr>\n",
       "    <tr>\n",
       "      <th>16508</th>\n",
       "      <td>6.6635</td>\n",
       "      <td>14.0</td>\n",
       "      <td>7.500808</td>\n",
       "      <td>1.025040</td>\n",
       "      <td>3565.0</td>\n",
       "      <td>2.879645</td>\n",
       "      <td>33.94</td>\n",
       "      <td>-117.37</td>\n",
       "      <td>2.196</td>\n",
       "    </tr>\n",
       "    <tr>\n",
       "      <th>16509</th>\n",
       "      <td>3.6435</td>\n",
       "      <td>18.0</td>\n",
       "      <td>3.258065</td>\n",
       "      <td>1.072581</td>\n",
       "      <td>866.0</td>\n",
       "      <td>1.745968</td>\n",
       "      <td>33.89</td>\n",
       "      <td>-117.88</td>\n",
       "      <td>1.191</td>\n",
       "    </tr>\n",
       "    <tr>\n",
       "      <th>16510</th>\n",
       "      <td>2.5329</td>\n",
       "      <td>31.0</td>\n",
       "      <td>4.055639</td>\n",
       "      <td>1.037594</td>\n",
       "      <td>2220.0</td>\n",
       "      <td>3.338346</td>\n",
       "      <td>36.67</td>\n",
       "      <td>-121.62</td>\n",
       "      <td>1.352</td>\n",
       "    </tr>\n",
       "    <tr>\n",
       "      <th>16511</th>\n",
       "      <td>6.0868</td>\n",
       "      <td>17.0</td>\n",
       "      <td>6.293383</td>\n",
       "      <td>0.971286</td>\n",
       "      <td>2396.0</td>\n",
       "      <td>2.991261</td>\n",
       "      <td>33.53</td>\n",
       "      <td>-117.69</td>\n",
       "      <td>2.829</td>\n",
       "    </tr>\n",
       "  </tbody>\n",
       "</table>\n",
       "<p>16512 rows × 9 columns</p>\n",
       "</div>"
      ],
      "text/plain": [
       "       MedInc  HouseAge  AveRooms  AveBedrms  Population  AveOccup  Latitude   \n",
       "0      6.1388      30.0  5.930269   1.003170      1721.0  2.727417     37.33  \\\n",
       "1      2.8000      34.0  4.553531   0.972665      2391.0  5.446469     34.28   \n",
       "2      4.5179      25.0  5.401180   1.017699       809.0  2.386431     33.81   \n",
       "3      3.1361      16.0  5.339332   0.997429      1155.0  2.969152     40.09   \n",
       "4      0.4999      52.0  2.600000   0.733333        74.0  1.644444     33.93   \n",
       "...       ...       ...       ...        ...         ...       ...       ...   \n",
       "16507  2.8042      19.0  3.935849   1.084906      1701.0  3.209434     34.41   \n",
       "16508  6.6635      14.0  7.500808   1.025040      3565.0  2.879645     33.94   \n",
       "16509  3.6435      18.0  3.258065   1.072581       866.0  1.745968     33.89   \n",
       "16510  2.5329      31.0  4.055639   1.037594      2220.0  3.338346     36.67   \n",
       "16511  6.0868      17.0  6.293383   0.971286      2396.0  2.991261     33.53   \n",
       "\n",
       "       Longitude  MedHouseVal  \n",
       "0        -121.98        3.024  \n",
       "1        -118.42        1.443  \n",
       "2        -118.01        1.771  \n",
       "3        -122.38        0.848  \n",
       "4        -118.28        0.906  \n",
       "...          ...          ...  \n",
       "16507    -119.70        2.361  \n",
       "16508    -117.37        2.196  \n",
       "16509    -117.88        1.191  \n",
       "16510    -121.62        1.352  \n",
       "16511    -117.69        2.829  \n",
       "\n",
       "[16512 rows x 9 columns]"
      ]
     },
     "execution_count": 8,
     "metadata": {},
     "output_type": "execute_result"
    }
   ],
   "source": [
    "train=pd.DataFrame(X_train,columns=cal_housing.feature_names)\n",
    "train['MedHouseVal']=y_train\n",
    "train"
   ]
  },
  {
   "cell_type": "code",
   "execution_count": 9,
   "id": "54a22e69-e9da-4824-990a-859911e35e3d",
   "metadata": {
    "tags": []
   },
   "outputs": [
    {
     "data": {
      "text/html": [
       "<div>\n",
       "<style scoped>\n",
       "    .dataframe tbody tr th:only-of-type {\n",
       "        vertical-align: middle;\n",
       "    }\n",
       "\n",
       "    .dataframe tbody tr th {\n",
       "        vertical-align: top;\n",
       "    }\n",
       "\n",
       "    .dataframe thead th {\n",
       "        text-align: right;\n",
       "    }\n",
       "</style>\n",
       "<table border=\"1\" class=\"dataframe\">\n",
       "  <thead>\n",
       "    <tr style=\"text-align: right;\">\n",
       "      <th></th>\n",
       "      <th>MedInc</th>\n",
       "      <th>HouseAge</th>\n",
       "      <th>AveRooms</th>\n",
       "      <th>AveBedrms</th>\n",
       "      <th>Population</th>\n",
       "      <th>AveOccup</th>\n",
       "      <th>Latitude</th>\n",
       "      <th>Longitude</th>\n",
       "      <th>MedHouseVal</th>\n",
       "    </tr>\n",
       "  </thead>\n",
       "  <tbody>\n",
       "    <tr>\n",
       "      <th>0</th>\n",
       "      <td>5.6233</td>\n",
       "      <td>21.0</td>\n",
       "      <td>6.605114</td>\n",
       "      <td>1.041193</td>\n",
       "      <td>2014.0</td>\n",
       "      <td>2.860795</td>\n",
       "      <td>37.03</td>\n",
       "      <td>-122.03</td>\n",
       "      <td>3.220</td>\n",
       "    </tr>\n",
       "    <tr>\n",
       "      <th>1</th>\n",
       "      <td>1.9336</td>\n",
       "      <td>38.0</td>\n",
       "      <td>4.246014</td>\n",
       "      <td>1.173121</td>\n",
       "      <td>1768.0</td>\n",
       "      <td>4.027335</td>\n",
       "      <td>34.05</td>\n",
       "      <td>-118.31</td>\n",
       "      <td>1.906</td>\n",
       "    </tr>\n",
       "    <tr>\n",
       "      <th>2</th>\n",
       "      <td>4.1451</td>\n",
       "      <td>26.0</td>\n",
       "      <td>5.906318</td>\n",
       "      <td>1.106754</td>\n",
       "      <td>1372.0</td>\n",
       "      <td>2.989107</td>\n",
       "      <td>33.72</td>\n",
       "      <td>-118.31</td>\n",
       "      <td>3.267</td>\n",
       "    </tr>\n",
       "    <tr>\n",
       "      <th>3</th>\n",
       "      <td>2.1383</td>\n",
       "      <td>31.0</td>\n",
       "      <td>3.334495</td>\n",
       "      <td>1.027875</td>\n",
       "      <td>1300.0</td>\n",
       "      <td>4.529617</td>\n",
       "      <td>34.06</td>\n",
       "      <td>-118.04</td>\n",
       "      <td>1.534</td>\n",
       "    </tr>\n",
       "    <tr>\n",
       "      <th>4</th>\n",
       "      <td>2.4952</td>\n",
       "      <td>32.0</td>\n",
       "      <td>4.001235</td>\n",
       "      <td>1.104938</td>\n",
       "      <td>1592.0</td>\n",
       "      <td>1.965432</td>\n",
       "      <td>34.10</td>\n",
       "      <td>-117.72</td>\n",
       "      <td>1.818</td>\n",
       "    </tr>\n",
       "    <tr>\n",
       "      <th>...</th>\n",
       "      <td>...</td>\n",
       "      <td>...</td>\n",
       "      <td>...</td>\n",
       "      <td>...</td>\n",
       "      <td>...</td>\n",
       "      <td>...</td>\n",
       "      <td>...</td>\n",
       "      <td>...</td>\n",
       "      <td>...</td>\n",
       "    </tr>\n",
       "    <tr>\n",
       "      <th>4123</th>\n",
       "      <td>3.9261</td>\n",
       "      <td>23.0</td>\n",
       "      <td>5.448393</td>\n",
       "      <td>1.020305</td>\n",
       "      <td>1299.0</td>\n",
       "      <td>2.197970</td>\n",
       "      <td>38.46</td>\n",
       "      <td>-122.71</td>\n",
       "      <td>2.133</td>\n",
       "    </tr>\n",
       "    <tr>\n",
       "      <th>4124</th>\n",
       "      <td>2.8375</td>\n",
       "      <td>21.0</td>\n",
       "      <td>5.286396</td>\n",
       "      <td>1.155131</td>\n",
       "      <td>1792.0</td>\n",
       "      <td>4.276850</td>\n",
       "      <td>34.09</td>\n",
       "      <td>-117.95</td>\n",
       "      <td>1.665</td>\n",
       "    </tr>\n",
       "    <tr>\n",
       "      <th>4125</th>\n",
       "      <td>2.2019</td>\n",
       "      <td>13.0</td>\n",
       "      <td>4.333333</td>\n",
       "      <td>1.150463</td>\n",
       "      <td>1927.0</td>\n",
       "      <td>4.460648</td>\n",
       "      <td>34.25</td>\n",
       "      <td>-118.40</td>\n",
       "      <td>1.342</td>\n",
       "    </tr>\n",
       "    <tr>\n",
       "      <th>4126</th>\n",
       "      <td>1.3750</td>\n",
       "      <td>20.0</td>\n",
       "      <td>4.100000</td>\n",
       "      <td>1.800000</td>\n",
       "      <td>94.0</td>\n",
       "      <td>9.400000</td>\n",
       "      <td>38.91</td>\n",
       "      <td>-122.71</td>\n",
       "      <td>0.550</td>\n",
       "    </tr>\n",
       "    <tr>\n",
       "      <th>4127</th>\n",
       "      <td>5.0544</td>\n",
       "      <td>29.0</td>\n",
       "      <td>5.875556</td>\n",
       "      <td>1.031111</td>\n",
       "      <td>1372.0</td>\n",
       "      <td>3.048889</td>\n",
       "      <td>38.24</td>\n",
       "      <td>-122.67</td>\n",
       "      <td>2.618</td>\n",
       "    </tr>\n",
       "  </tbody>\n",
       "</table>\n",
       "<p>4128 rows × 9 columns</p>\n",
       "</div>"
      ],
      "text/plain": [
       "      MedInc  HouseAge  AveRooms  AveBedrms  Population  AveOccup  Latitude   \n",
       "0     5.6233      21.0  6.605114   1.041193      2014.0  2.860795     37.03  \\\n",
       "1     1.9336      38.0  4.246014   1.173121      1768.0  4.027335     34.05   \n",
       "2     4.1451      26.0  5.906318   1.106754      1372.0  2.989107     33.72   \n",
       "3     2.1383      31.0  3.334495   1.027875      1300.0  4.529617     34.06   \n",
       "4     2.4952      32.0  4.001235   1.104938      1592.0  1.965432     34.10   \n",
       "...      ...       ...       ...        ...         ...       ...       ...   \n",
       "4123  3.9261      23.0  5.448393   1.020305      1299.0  2.197970     38.46   \n",
       "4124  2.8375      21.0  5.286396   1.155131      1792.0  4.276850     34.09   \n",
       "4125  2.2019      13.0  4.333333   1.150463      1927.0  4.460648     34.25   \n",
       "4126  1.3750      20.0  4.100000   1.800000        94.0  9.400000     38.91   \n",
       "4127  5.0544      29.0  5.875556   1.031111      1372.0  3.048889     38.24   \n",
       "\n",
       "      Longitude  MedHouseVal  \n",
       "0       -122.03        3.220  \n",
       "1       -118.31        1.906  \n",
       "2       -118.31        3.267  \n",
       "3       -118.04        1.534  \n",
       "4       -117.72        1.818  \n",
       "...         ...          ...  \n",
       "4123    -122.71        2.133  \n",
       "4124    -117.95        1.665  \n",
       "4125    -118.40        1.342  \n",
       "4126    -122.71        0.550  \n",
       "4127    -122.67        2.618  \n",
       "\n",
       "[4128 rows x 9 columns]"
      ]
     },
     "execution_count": 9,
     "metadata": {},
     "output_type": "execute_result"
    }
   ],
   "source": [
    "test=pd.DataFrame(X_test,columns=cal_housing.feature_names)\n",
    "test['MedHouseVal']=y_test\n",
    "test"
   ]
  },
  {
   "cell_type": "code",
   "execution_count": 10,
   "id": "4cf031f7-061f-4b1c-9444-574f5dcb6082",
   "metadata": {
    "tags": []
   },
   "outputs": [
    {
     "data": {
      "text/html": [
       "<div>\n",
       "<style scoped>\n",
       "    .dataframe tbody tr th:only-of-type {\n",
       "        vertical-align: middle;\n",
       "    }\n",
       "\n",
       "    .dataframe tbody tr th {\n",
       "        vertical-align: top;\n",
       "    }\n",
       "\n",
       "    .dataframe thead th {\n",
       "        text-align: right;\n",
       "    }\n",
       "</style>\n",
       "<table border=\"1\" class=\"dataframe\">\n",
       "  <thead>\n",
       "    <tr style=\"text-align: right;\">\n",
       "      <th></th>\n",
       "      <th>MedHouseVal</th>\n",
       "    </tr>\n",
       "  </thead>\n",
       "  <tbody>\n",
       "    <tr>\n",
       "      <th>0</th>\n",
       "      <td>3.220</td>\n",
       "    </tr>\n",
       "    <tr>\n",
       "      <th>1</th>\n",
       "      <td>1.906</td>\n",
       "    </tr>\n",
       "    <tr>\n",
       "      <th>2</th>\n",
       "      <td>3.267</td>\n",
       "    </tr>\n",
       "    <tr>\n",
       "      <th>3</th>\n",
       "      <td>1.534</td>\n",
       "    </tr>\n",
       "    <tr>\n",
       "      <th>4</th>\n",
       "      <td>1.818</td>\n",
       "    </tr>\n",
       "    <tr>\n",
       "      <th>...</th>\n",
       "      <td>...</td>\n",
       "    </tr>\n",
       "    <tr>\n",
       "      <th>4123</th>\n",
       "      <td>2.133</td>\n",
       "    </tr>\n",
       "    <tr>\n",
       "      <th>4124</th>\n",
       "      <td>1.665</td>\n",
       "    </tr>\n",
       "    <tr>\n",
       "      <th>4125</th>\n",
       "      <td>1.342</td>\n",
       "    </tr>\n",
       "    <tr>\n",
       "      <th>4126</th>\n",
       "      <td>0.550</td>\n",
       "    </tr>\n",
       "    <tr>\n",
       "      <th>4127</th>\n",
       "      <td>2.618</td>\n",
       "    </tr>\n",
       "  </tbody>\n",
       "</table>\n",
       "<p>4128 rows × 1 columns</p>\n",
       "</div>"
      ],
      "text/plain": [
       "      MedHouseVal\n",
       "0           3.220\n",
       "1           1.906\n",
       "2           3.267\n",
       "3           1.534\n",
       "4           1.818\n",
       "...           ...\n",
       "4123        2.133\n",
       "4124        1.665\n",
       "4125        1.342\n",
       "4126        0.550\n",
       "4127        2.618\n",
       "\n",
       "[4128 rows x 1 columns]"
      ]
     },
     "execution_count": 10,
     "metadata": {},
     "output_type": "execute_result"
    }
   ],
   "source": [
    "actual=test[['MedHouseVal']]\n",
    "actual"
   ]
  },
  {
   "attachments": {},
   "cell_type": "markdown",
   "id": "2e5389df-c7e7-43cc-a985-e7c19f81d910",
   "metadata": {
    "tags": []
   },
   "source": [
    "<b>Scale the Data</b>"
   ]
  },
  {
   "cell_type": "code",
   "execution_count": 11,
   "id": "97e07969-bdbb-4eee-8308-1c08d04b2659",
   "metadata": {
    "tags": []
   },
   "outputs": [],
   "source": [
    "from sklearn.preprocessing import StandardScaler\n",
    " \n",
    "scaler = StandardScaler()\n",
    "X_train = scaler.fit_transform(X_train)\n",
    "X_test = scaler.transform(X_test)"
   ]
  },
  {
   "attachments": {},
   "cell_type": "markdown",
   "id": "aaee0649-4d9e-4a24-b8b9-92a95936941c",
   "metadata": {
    "jp-MarkdownHeadingCollapsed": true,
    "tags": []
   },
   "source": [
    "## 3. Create a Random Forest Model "
   ]
  },
  {
   "cell_type": "code",
   "execution_count": 12,
   "id": "e887b83b-677e-46e0-bffd-6d97cbb17b9a",
   "metadata": {
    "tags": []
   },
   "outputs": [],
   "source": [
    "# Set the model parameters\n",
    "n_estimators = 100\n",
    "max_depth = 6\n",
    "max_features = 3\n",
    "\n",
    "# Create and train model\n",
    "rf = RandomForestRegressor(n_estimators=n_estimators, max_depth=max_depth, max_features=max_features)\n",
    "rf.fit(X_train, y_train)\n",
    "\n",
    "# Use the model to make predictions on the test dataset.\n",
    "predictions = rf.predict(X_test)"
   ]
  },
  {
   "cell_type": "code",
   "execution_count": 13,
   "id": "12d72bdb-f30f-486f-8efc-03ef4ebfcf9c",
   "metadata": {
    "tags": []
   },
   "outputs": [
    {
     "data": {
      "text/plain": [
       "array([2.87436355, 1.38748657, 2.04088692, ..., 1.42390185, 1.08702346,\n",
       "       2.21026652])"
      ]
     },
     "execution_count": 13,
     "metadata": {},
     "output_type": "execute_result"
    }
   ],
   "source": [
    "predictions"
   ]
  },
  {
   "cell_type": "code",
   "execution_count": 14,
   "id": "f4f99e73-9bf5-4908-9458-e8b9be9015d2",
   "metadata": {
    "tags": []
   },
   "outputs": [
    {
     "data": {
      "text/html": [
       "<div>\n",
       "<style scoped>\n",
       "    .dataframe tbody tr th:only-of-type {\n",
       "        vertical-align: middle;\n",
       "    }\n",
       "\n",
       "    .dataframe tbody tr th {\n",
       "        vertical-align: top;\n",
       "    }\n",
       "\n",
       "    .dataframe thead th {\n",
       "        text-align: right;\n",
       "    }\n",
       "</style>\n",
       "<table border=\"1\" class=\"dataframe\">\n",
       "  <thead>\n",
       "    <tr style=\"text-align: right;\">\n",
       "      <th></th>\n",
       "      <th>MedHouseVal</th>\n",
       "    </tr>\n",
       "  </thead>\n",
       "  <tbody>\n",
       "    <tr>\n",
       "      <th>0</th>\n",
       "      <td>2.874364</td>\n",
       "    </tr>\n",
       "    <tr>\n",
       "      <th>1</th>\n",
       "      <td>1.387487</td>\n",
       "    </tr>\n",
       "    <tr>\n",
       "      <th>2</th>\n",
       "      <td>2.040887</td>\n",
       "    </tr>\n",
       "    <tr>\n",
       "      <th>3</th>\n",
       "      <td>1.457391</td>\n",
       "    </tr>\n",
       "    <tr>\n",
       "      <th>4</th>\n",
       "      <td>1.976654</td>\n",
       "    </tr>\n",
       "    <tr>\n",
       "      <th>...</th>\n",
       "      <td>...</td>\n",
       "    </tr>\n",
       "    <tr>\n",
       "      <th>4123</th>\n",
       "      <td>2.124320</td>\n",
       "    </tr>\n",
       "    <tr>\n",
       "      <th>4124</th>\n",
       "      <td>1.504043</td>\n",
       "    </tr>\n",
       "    <tr>\n",
       "      <th>4125</th>\n",
       "      <td>1.423902</td>\n",
       "    </tr>\n",
       "    <tr>\n",
       "      <th>4126</th>\n",
       "      <td>1.087023</td>\n",
       "    </tr>\n",
       "    <tr>\n",
       "      <th>4127</th>\n",
       "      <td>2.210267</td>\n",
       "    </tr>\n",
       "  </tbody>\n",
       "</table>\n",
       "<p>4128 rows × 1 columns</p>\n",
       "</div>"
      ],
      "text/plain": [
       "      MedHouseVal\n",
       "0        2.874364\n",
       "1        1.387487\n",
       "2        2.040887\n",
       "3        1.457391\n",
       "4        1.976654\n",
       "...           ...\n",
       "4123     2.124320\n",
       "4124     1.504043\n",
       "4125     1.423902\n",
       "4126     1.087023\n",
       "4127     2.210267\n",
       "\n",
       "[4128 rows x 1 columns]"
      ]
     },
     "execution_count": 14,
     "metadata": {},
     "output_type": "execute_result"
    }
   ],
   "source": [
    "preds=pd.DataFrame(predictions,columns=['MedHouseVal'])\n",
    "preds"
   ]
  },
  {
   "cell_type": "code",
   "execution_count": 15,
   "id": "bf894bb5-8323-4dd1-978f-f9eb44dc90cd",
   "metadata": {
    "tags": []
   },
   "outputs": [
    {
     "name": "stdout",
     "output_type": "stream",
     "text": [
      "0.39083607501613254\n"
     ]
    }
   ],
   "source": [
    "# Calculate mean squared error\n",
    "mse = mean_squared_error(y_test, predictions)\n",
    "print(mse)"
   ]
  },
  {
   "cell_type": "code",
   "execution_count": 16,
   "id": "010bca57-8f4a-4550-913f-bc6998dd7bf0",
   "metadata": {
    "tags": []
   },
   "outputs": [],
   "source": [
    "# SAVE THE MODEL\n",
    "import pickle\n",
    "pickle.dump(rf, open('model_california_housing.pkl', 'wb'))\n",
    " \n",
    "# some time later...\n",
    " \n",
    "# load the model from disk\n",
    "# loaded_model = pickle.load(open(filename, 'rb'))"
   ]
  },
  {
   "attachments": {},
   "cell_type": "markdown",
   "id": "793490a3-6db8-4e1c-962f-a81bfc1f26b5",
   "metadata": {},
   "source": [
    "<b>Review the feature Importance determined by the Model:</b>"
   ]
  },
  {
   "cell_type": "code",
   "execution_count": 17,
   "id": "d8134a3f-f947-4830-91ac-a904cecda647",
   "metadata": {
    "tags": []
   },
   "outputs": [
    {
     "data": {
      "text/html": [
       "<div>\n",
       "<style scoped>\n",
       "    .dataframe tbody tr th:only-of-type {\n",
       "        vertical-align: middle;\n",
       "    }\n",
       "\n",
       "    .dataframe tbody tr th {\n",
       "        vertical-align: top;\n",
       "    }\n",
       "\n",
       "    .dataframe thead th {\n",
       "        text-align: right;\n",
       "    }\n",
       "</style>\n",
       "<table border=\"1\" class=\"dataframe\">\n",
       "  <thead>\n",
       "    <tr style=\"text-align: right;\">\n",
       "      <th></th>\n",
       "      <th>importance</th>\n",
       "    </tr>\n",
       "  </thead>\n",
       "  <tbody>\n",
       "    <tr>\n",
       "      <th>MedInc</th>\n",
       "      <td>0.561174</td>\n",
       "    </tr>\n",
       "    <tr>\n",
       "      <th>AveOccup</th>\n",
       "      <td>0.124401</td>\n",
       "    </tr>\n",
       "    <tr>\n",
       "      <th>Latitude</th>\n",
       "      <td>0.102014</td>\n",
       "    </tr>\n",
       "    <tr>\n",
       "      <th>AveRooms</th>\n",
       "      <td>0.096580</td>\n",
       "    </tr>\n",
       "    <tr>\n",
       "      <th>Longitude</th>\n",
       "      <td>0.069629</td>\n",
       "    </tr>\n",
       "    <tr>\n",
       "      <th>HouseAge</th>\n",
       "      <td>0.035405</td>\n",
       "    </tr>\n",
       "    <tr>\n",
       "      <th>AveBedrms</th>\n",
       "      <td>0.007728</td>\n",
       "    </tr>\n",
       "    <tr>\n",
       "      <th>Population</th>\n",
       "      <td>0.003070</td>\n",
       "    </tr>\n",
       "  </tbody>\n",
       "</table>\n",
       "</div>"
      ],
      "text/plain": [
       "            importance\n",
       "MedInc        0.561174\n",
       "AveOccup      0.124401\n",
       "Latitude      0.102014\n",
       "AveRooms      0.096580\n",
       "Longitude     0.069629\n",
       "HouseAge      0.035405\n",
       "AveBedrms     0.007728\n",
       "Population    0.003070"
      ]
     },
     "execution_count": 17,
     "metadata": {},
     "output_type": "execute_result"
    }
   ],
   "source": [
    "feature_importances = pd.DataFrame(rf.feature_importances_, \n",
    "                                   index=cal_housing.feature_names, columns=['importance'])\n",
    "feature_importances.sort_values('importance', ascending=False)"
   ]
  },
  {
   "cell_type": "code",
   "execution_count": 18,
   "id": "8c6bf7f1-65b3-48dc-8100-b7352e4102ed",
   "metadata": {
    "tags": []
   },
   "outputs": [
    {
     "data": {
      "image/png": "[encoded data removed]",
      "text/plain": [
       "<Figure size 640x480 with 1 Axes>"
      ]
     },
     "metadata": {},
     "output_type": "display_data"
    }
   ],
   "source": [
    "plt.plot(y_test,predictions,\"o\", markersize=2)\n",
    "plt.xlabel(\"observed-value\")\n",
    "plt.ylabel(\"predicted-value\")\n",
    "plt.show()"
   ]
  },
  {
   "attachments": {},
   "cell_type": "markdown",
   "id": "733c4dd2-0515-4afa-834d-7c0daf34b770",
   "metadata": {
    "jp-MarkdownHeadingCollapsed": true,
    "tags": []
   },
   "source": [
    "## 4. Model Governance (ModelManager)"
   ]
  },
  {
   "cell_type": "code",
   "execution_count": 19,
   "id": "4ebde77c-eb65-4954-9ec2-beddc9a33b18",
   "metadata": {
    "tags": []
   },
   "outputs": [],
   "source": [
    "# SAVE THE REQUIRED DATA INTO CSV FILES\n",
    "train.to_csv('Train_California_housing.csv',index=False)\n",
    "test.to_csv('Test_California_housing.csv',index=False)\n",
    "actual.to_csv('Actual_California_housing.csv',index=False)\n",
    "preds.to_csv('Preds_California_housing.csv',index=False)"
   ]
  },
  {
   "cell_type": "code",
   "execution_count": 23,
   "id": "d17d9141-0fd3-4f70-89cf-849d5e8717df",
   "metadata": {
    "tags": []
   },
   "outputs": [
    {
     "name": "stderr",
     "output_type": "stream",
     "text": [
      "INFO:2023-05-05 14:59:08,502:mmanager.log_keeper:Post usecase succeed with status code 201\n"
     ]
    },
    {
     "name": "stdout",
     "output_type": "stream",
     "text": [
      "{'id': 162, 'author': 'bishow', 'created': '2023-05-05T01:25:28.164167-07:00', 'performance_valid': False, 'name': 'California Housing Dataset-testtest3', 'usecase_type': 'Regression', 'computing_type': '', 'description': 'California Housing Dataset', 'source': 'UsecasSource', 'contributor': 'UsecaseContributor', 'image': 'https://sandbox.qausal.ai/media/project/CaliforniaHousing_0W4V6eY.jpg', 'banner': 'https://sandbox.qausal.ai/media/project/CaliforniaHousing_1m2sQuY.jpg', 'is_private': False, 'userdefined_performance': False, 'transparency': True, 'trustability': False, 'explainability': False, 'wit_template_path': None, 'forecasting_template': None, 'notification_emails': [], 'hide_model': False, 'forecasting_db': None, 'table_act': None, 'table_preds': None, 'table_daily_pred': None, 'table_stats': None, 'table_fac_name': None, 'table_metrics': None, 'remote_tables': {}, 'sync_dates': {}, 'series': None, 'condition_one': None, 'condition_two': None, 'condition_three': None, 'condition_four': None, 'action_name': None, 'result_tab': False, 'series_tab': False, 'condition_tab': False, 'performance_tab': False, 'ab_testing_tab': False, 'release_tab': False, 'user_id': 4, 'performance': None}\n"
     ]
    }
   ],
   "source": [
    "# ADD PROJECT/USECASE:\n",
    "from mmanager.mmanager import Usecase\n",
    "data = {\n",
    "    \"name\": \"California Housing Dataset-testtest3\",\n",
    "    \"author\": \"bishow\",\n",
    "    \"description\": \"California Housing Dataset\",\n",
    "    \"source\": \"UsecasSource\",\n",
    "    \"contributor\": \"UsecaseContributor\",\n",
    "    \"transparency\": True,\n",
    "    \"usecase_type\":\"Regression\",\n",
    "    \"image\": 'CaliforniaHousing.jpg' , #path to image file\n",
    "    \"banner\": 'CaliforniaHousing.jpg' , #path to banner file\n",
    "  }\n",
    "try:\n",
    "    x = Usecase(secret_key,url).post_usecase(data)\n",
    "    print(x.json())\n",
    "except Exception as e:\n",
    "    print(str(e))"
   ]
  },
  {
   "cell_type": "code",
   "execution_count": 4,
   "id": "5605fd7e-0c96-4211-a128-2a281c10f6fe",
   "metadata": {
    "tags": []
   },
   "outputs": [
    {
     "name": "stdout",
     "output_type": "stream",
     "text": [
      "[{\"id\": 163, \"name\": \"Commodity Price Forecasting (Brent Oil)\", \"type\": \"Forecasting\"}, {\"id\": 157, \"name\": \"Delay Prediction in Supply Chain\", \"type\": \"Classification\"}, {\"id\": 154, \"name\": \"California Housing Dataset\", \"type\": \"Regression\"}]\n"
     ]
    }
   ],
   "source": [
    "# GET ALL USECASE UPLOATED BY AUTHENTICATED USER\n",
    "from mmanager.mmanager import Usecase\n",
    "usecases = Usecase(secret_key,url).get_usecases()\n",
    "print(usecases.json())"
   ]
  },
  {
   "cell_type": "code",
   "execution_count": 16,
   "id": "bd776cf2-c1d8-4169-90a5-d3c7036ad1e3",
   "metadata": {
    "tags": []
   },
   "outputs": [
    {
     "name": "stderr",
     "output_type": "stream",
     "text": [
      "INFO:2023-05-05 14:56:55,303:mmanager.log_keeper:Update usecase succeed with status code 200\n"
     ]
    },
    {
     "name": "stdout",
     "output_type": "stream",
     "text": [
      "{'id': 161, 'author': 'bishow', 'created': '2023-05-05T01:25:34.603627-07:00', 'performance_valid': False, 'name': 'California Housing Dataset-testupdated', 'usecase_type': 'Regression', 'computing_type': '', 'description': 'California Housing Dataset', 'source': 'UsecasSource', 'contributor': 'UsecaseContributor', 'image': 'https://sandbox.qausal.ai/media/project/CaliforniaHousing_e4OVVBm.jpg', 'banner': 'https://sandbox.qausal.ai/media/project/CaliforniaHousing_4OPknAV.jpg', 'is_private': False, 'userdefined_performance': False, 'transparency': True, 'trustability': False, 'explainability': False, 'wit_template_path': None, 'forecasting_template': None, 'notification_emails': [], 'hide_model': False, 'forecasting_db': None, 'table_act': None, 'table_preds': None, 'table_daily_pred': None, 'table_stats': None, 'table_fac_name': None, 'table_metrics': None, 'remote_tables': {}, 'sync_dates': {}, 'series': None, 'condition_one': None, 'condition_two': None, 'condition_three': None, 'condition_four': None, 'action_name': None, 'result_tab': False, 'series_tab': False, 'condition_tab': False, 'performance_tab': False, 'ab_testing_tab': False, 'release_tab': False, 'user_id': 4, 'performance': None}\n"
     ]
    }
   ],
   "source": [
    "# EDIT PROJECT/USECASE:\n",
    "from mmanager.mmanager import Usecase\n",
    "project_id = 161 #use model_id number to update\n",
    "data = {\n",
    "    \"name\": \"California Housing Dataset-testupdated\",\n",
    "    \"author\": \"bishow\",\n",
    "    \"description\": \"California Housing Dataset\",\n",
    "    \"source\": \"UsecasSource\",\n",
    "    \"contributor\": \"UsecaseContributor\",\n",
    "    \"transparency\": True,\n",
    "    \"usecase_type\":\"Regression\",\n",
    "    \"image\": 'CaliforniaHousing.jpg' , #path to image file\n",
    "    \"banner\": 'CaliforniaHousing.jpg' , #path to banner file\n",
    "  }\n",
    "# Usecase(secret_key, url).post_usecase(data)\n",
    "x=Usecase(secret_key, url).patch_usecase(data, project_id)\n",
    "print(x.json())"
   ]
  },
  {
   "cell_type": "code",
   "execution_count": 19,
   "id": "8de1a47e-b528-40ea-89bd-8bcdb428801d",
   "metadata": {
    "tags": []
   },
   "outputs": [],
   "source": [
    "# DELETE USECASE\n",
    "from mmanager.mmanager import Usecase\n",
    "project_id = 161 #use project_id number to delete\n",
    "Usecase(secret_key,url).delete_usecase(project_id)"
   ]
  },
  {
   "cell_type": "code",
   "execution_count": 5,
   "id": "439d5cd7-5586-416d-b14c-02108656054c",
   "metadata": {
    "tags": []
   },
   "outputs": [
    {
     "name": "stdout",
     "output_type": "stream",
     "text": [
      "{'id': 154, 'author': 'bishow', 'created': '2023-05-01T07:47:19.120155-07:00', 'performance_valid': False, 'name': 'California Housing Dataset', 'usecase_type': 'Regression', 'computing_type': '', 'description': 'California Housing Dataset', 'source': 'UsecasSource', 'contributor': 'UsecaseContributor', 'image': 'https://sandbox.qausal.ai/media/project/CaliforniaHousing_VEp6HIT.jpg', 'banner': 'https://sandbox.qausal.ai/media/project/CaliforniaHousing_Pkgenig.jpg', 'is_private': False, 'userdefined_performance': False, 'transparency': True, 'trustability': False, 'explainability': False, 'wit_template_path': None, 'forecasting_template': None, 'notification_emails': [], 'hide_model': False, 'forecasting_db': None, 'table_act': None, 'table_preds': None, 'table_daily_pred': None, 'table_stats': None, 'table_fac_name': None, 'table_metrics': None, 'remote_tables': {}, 'sync_dates': {}, 'series': None, 'condition_one': None, 'condition_two': None, 'condition_three': None, 'condition_four': None, 'action_name': None, 'result_tab': False, 'series_tab': False, 'condition_tab': False, 'performance_tab': False, 'ab_testing_tab': False, 'release_tab': False, 'user_id': 4, 'performance': None}\n"
     ]
    }
   ],
   "source": [
    "# GET USE-CASE DETAILS\n",
    "from mmanager.mmanager import Usecase\n",
    "usecase_id = 154\n",
    "usecase_detail = Usecase(secret_key,url).get_detail(usecase_id)\n",
    "print(usecase_detail.json())"
   ]
  },
  {
   "cell_type": "code",
   "execution_count": 6,
   "id": "7ffd256f-5396-415a-9081-98c031137933",
   "metadata": {
    "tags": []
   },
   "outputs": [
    {
     "name": "stdout",
     "output_type": "stream",
     "text": [
      "[253, 271, 269, 272, 255, 251, 257, 274, 252, 254]\n"
     ]
    }
   ],
   "source": [
    "# LIST ALL MODEL-ID REGISTERED UNDER USECASE:\n",
    "from mmanager.mmanager import Usecase\n",
    "usecase_id = 154\n",
    "model_list = Usecase(secret_key,url).get_models(usecase_id)\n",
    "print(model_list.json())"
   ]
  },
  {
   "cell_type": "code",
   "execution_count": 24,
   "id": "10ec2b2c-76a6-441e-9ed4-c6c6dee5a3e9",
   "metadata": {
    "tags": []
   },
   "outputs": [
    {
     "name": "stderr",
     "output_type": "stream",
     "text": [
      "INFO:2023-05-05 14:59:15,376:mmanager.log_keeper:Model creation succeed with status code 201\n"
     ]
    },
    {
     "name": "stdout",
     "output_type": "stream",
     "text": [
      "{'id': 273, 'model_alias': None, 'transformerType': 'Regression', 'description': None, 'language': 'Python', 'algorithmType': '', 'modelFramework': 'Scikit Learn', 'scoring_file_path': None, 'model_image_path': None, 'model_summary_path': None, 'weight': None, 'health': False, 'plan': False, 'datasetinsertionType': 'Manual', 'model_file_path': None, 'training_dataset': 'https://sandbox.qausal.ai/media/transformer/162/273/datasets/Train_California_housing.csv', 'test_dataset': 'https://sandbox.qausal.ai/media/transformer/162/273/datasets/Test_California_housing.csv', 'pred_dataset': 'https://sandbox.qausal.ai/media/transformer/162/273/datasets/Preds_California_housing.csv', 'actual_dataset': 'https://sandbox.qausal.ai/media/transformer/162/273/datasets/Actual_California_housing.csv', 'modelName': None, 'registryOption': None, 'amlCred': None, 'dataPath': None, 'fetchOption': None, 'externaldb': None, 'target_column': 'MedHouseVal', 'note': 'California Housing', 'model_area': 'finance', 'model_dependencies': 'no', 'model_usage': 'california housing', 'model_adjustment': None, 'model_developer': 'bishow', 'model_approver': 'bishow', 'model_maintenance': 'maintenance', 'documentation_code': None, 'implementation_plateform': None, 'error_traceback': None, 'distribution_error': False, 'current_date': '2023-05-05', 'production': '', 'regulations': None, 'score_data': None, 'error_traceback_distribution': None, 'binarize_scoring_flag': False, 'model_input_data': None, 'modelscore_compute': False, 'uplodtoAml_resp': None, 'causal_graph': None, 'causal_graph_img': None, 'computing_type': None, 'model_health_range': '{\"Green\":94,\"Yellow\":89,\"Red\":70}', 'applications': None}\n"
     ]
    }
   ],
   "source": [
    "# ADD MODEL: NO ML INTEGRATION\n",
    "\n",
    "from mmanager.mmanager import Model\n",
    "# path = '/content/' #path to csv file\n",
    "\n",
    "model_data = {\n",
    "    \"project\": 162, #Project ID or Usecase ID\n",
    "    \"transformerType\": \"Regression\", #Options: Classification, Regression, Forcasting\n",
    "    \"training_dataset\": \"Train_California_housing.csv\", #path to csv file\n",
    "    \"test_dataset\": \"Test_California_housing.csv\", #path to csv file\n",
    "    \"pred_dataset\": \"Preds_California_housing.csv\", #path to csv file\n",
    "    \"actual_dataset\": \"Actual_California_housing.csv\", #path to csv file\n",
    "    \"model_file_path\": \"\", #path to model file\n",
    "    \"target_column\": \"MedHouseVal\", #Target Column\n",
    "    \"note\": \"California Housing\", #Short description of Model\n",
    "    \"model_area\": \"finance\",\n",
    "    \"model_dependencies\": \"no\",\n",
    "    \"model_usage\": \"california housing\",\n",
    "    \"model_audjustment\": \"\",\n",
    "    \"model_developer\": \"bishow\",\n",
    "    \"model_approver\": \"bishow\",\n",
    "    \"model_maintenance\": \"maintenance\",\n",
    "}\n",
    "x=Model(secret_key, url).post_model(model_data)\n",
    "print(x.json())"
   ]
  },
  {
   "cell_type": "code",
   "execution_count": 26,
   "id": "94c67318-bf3e-4e56-8b17-53585e897450",
   "metadata": {
    "tags": []
   },
   "outputs": [
    {
     "name": "stderr",
     "output_type": "stream",
     "text": [
      "INFO:2023-05-05 14:59:59,303:mmanager.log_keeper:Update model succeed with status code 200\n"
     ]
    },
    {
     "name": "stdout",
     "output_type": "stream",
     "text": [
      "{'id': 273, 'model_alias': None, 'transformerType': 'Regression', 'description': None, 'language': 'Python', 'algorithmType': '', 'modelFramework': 'Scikit Learn', 'scoring_file_path': None, 'model_image_path': 'https://sandbox.qausal.ai/media/transformer/162/273/CaliforniaHousing.jpg', 'model_summary_path': None, 'weight': None, 'health': False, 'plan': False, 'datasetinsertionType': 'Manual', 'model_file_path': None, 'training_dataset': 'https://sandbox.qausal.ai/media/transformer/162/273/datasets/Train_California_housing_Io3nP0p.csv', 'test_dataset': 'https://sandbox.qausal.ai/media/transformer/162/273/datasets/Test_California_housing_JWZ4YfA.csv', 'pred_dataset': 'https://sandbox.qausal.ai/media/transformer/162/273/datasets/Preds_California_housing_cJfmhZF.csv', 'actual_dataset': 'https://sandbox.qausal.ai/media/transformer/162/273/datasets/Actual_California_housing_jhHlEN8.csv', 'modelName': None, 'registryOption': None, 'amlCred': None, 'dataPath': None, 'fetchOption': None, 'externaldb': None, 'target_column': 'MedHouseVal', 'note': 'California', 'model_area': 'Finance', 'model_dependencies': 'api script Model', 'model_usage': 'api script Model', 'model_adjustment': None, 'model_developer': 'api script Model', 'model_approver': 'api script Model', 'model_maintenance': 'api script Model', 'documentation_code': 'api script Model', 'implementation_plateform': 'api script Model', 'error_traceback': None, 'distribution_error': False, 'current_date': '2023-05-05', 'production': '', 'regulations': None, 'score_data': None, 'error_traceback_distribution': None, 'binarize_scoring_flag': False, 'model_input_data': None, 'modelscore_compute': False, 'uplodtoAml_resp': None, 'causal_graph': None, 'causal_graph_img': None, 'computing_type': None, 'model_health_range': '{\"Green\":94,\"Yellow\":89,\"Red\":70}', 'applications': None}\n"
     ]
    }
   ],
   "source": [
    "# UPDATE MODEL: \n",
    "from mmanager.mmanager import Model\n",
    "model_id = 273 #use model_id number to update\n",
    "data = {\n",
    "\t\t\"transformerType\": \"Regression\",\n",
    "\t\t\"target_column\": \"MedHouseVal\",\n",
    "\t\t\"note\": \"California\",\n",
    "\t\t\"model_area\": \"Finance\",\n",
    "\t\t\"model_dependencies\": \"api script Model\",\n",
    "\t\t\"model_usage\": \"api script Model\",\n",
    "\t\t\"model_audjustment\": \"api script Model\",\n",
    "\t\t\"model_developer\": \"api script Model\",\n",
    "\t\t\"model_approver\": \"api script Model\",\n",
    "\t\t\"model_maintenance\": \"api script Model\",\n",
    "\t\t\"documentation_code\": \"api script Model\",\n",
    "\t\t\"implementation_plateform\": \"api script Model\",\n",
    "\t\t\"training_dataset\": \"Train_California_housing.csv\", #path to csv file\n",
    "\t\t\"pred_dataset\": \"Preds_California_housing.csv\", #path to csv file\n",
    "\t\t\"actual_dataset\": \"Actual_California_housing.csv\", #path to csv file\n",
    "\t\t\"test_dataset\": \"Test_California_housing.csv\", #path to csv file\n",
    "\t\t\"model_file_path\":\"\",\n",
    "\t    \"scoring_file_path\":\"\",\n",
    "\t\t\"model_image_path\":\"CaliforniaHousing.jpg\" ,\n",
    "    \t\"model_summary_path\":\"\",\n",
    "\t}\n",
    "x=Model(secret_key, url).patch_model(data, model_id)\n",
    "print(x.json())"
   ]
  },
  {
   "cell_type": "code",
   "execution_count": 27,
   "id": "a0c7d17b-e1d3-49b1-8c2c-b9dd08b5afdb",
   "metadata": {
    "tags": []
   },
   "outputs": [
    {
     "name": "stderr",
     "output_type": "stream",
     "text": [
      "INFO:2023-05-05 15:00:15,910:mmanager.log_keeper:Delete model succeed with status code 204\n"
     ]
    },
    {
     "data": {
      "text/plain": [
       "<Response [204]>"
      ]
     },
     "execution_count": 27,
     "metadata": {},
     "output_type": "execute_result"
    }
   ],
   "source": [
    "# DELETE MODEL: \n",
    "from mmanager.mmanager import Model\n",
    "model_id = 273 #use model_id number to delete\n",
    "Model(secret_key,url).delete_model(model_id)"
   ]
  },
  {
   "cell_type": "code",
   "execution_count": 8,
   "id": "1167c65a-cc3a-4fc7-a230-1448d75f6cbc",
   "metadata": {
    "tags": []
   },
   "outputs": [
    {
     "name": "stdout",
     "output_type": "stream",
     "text": [
      "[253, 271, 269, 272, 255, 251, 257, 274, 252, 254]\n"
     ]
    }
   ],
   "source": [
    "# LIST ALL MODEL-ID REGISTERED UNDER USECASE:\n",
    "from mmanager.mmanager import Usecase\n",
    "usecase_id = 154\n",
    "model_list = Usecase(secret_key,url).get_models(usecase_id)\n",
    "print(model_list.json())"
   ]
  },
  {
   "cell_type": "code",
   "execution_count": 9,
   "id": "179a705f-bdde-408f-ab6c-41188e9d9ed2",
   "metadata": {
    "tags": []
   },
   "outputs": [
    {
     "name": "stdout",
     "output_type": "stream",
     "text": [
      "{'id': 251, 'model_alias': None, 'transformerType': 'Regression', 'description': None, 'language': 'Python', 'algorithmType': '', 'modelFramework': 'Scikit Learn', 'scoring_file_path': None, 'model_image_path': None, 'model_summary_path': None, 'weight': None, 'health': False, 'plan': False, 'datasetinsertionType': 'Manual', 'model_file_path': None, 'training_dataset': 'https://sandbox.qausal.ai/media/transformer/154/251/datasets/Train_California_housing.csv', 'test_dataset': 'https://sandbox.qausal.ai/media/transformer/154/251/datasets/Test_California_housing.csv', 'pred_dataset': 'https://sandbox.qausal.ai/media/transformer/154/251/datasets/Preds_California_housing.csv', 'actual_dataset': 'https://sandbox.qausal.ai/media/transformer/154/251/datasets/Actual_California_housing.csv', 'modelName': None, 'registryOption': None, 'amlCred': None, 'dataPath': None, 'fetchOption': None, 'externaldb': None, 'target_column': 'MedHouseVal', 'note': 'California Housing', 'model_area': 'finance', 'model_dependencies': 'no', 'model_usage': 'california housing', 'model_adjustment': None, 'model_developer': 'bishow', 'model_approver': 'bishow', 'model_maintenance': 'maintenance', 'documentation_code': None, 'implementation_plateform': None, 'error_traceback': 'Traceback (most recent call last):\\n  File \"/var/datacontest/datacontest/celery.py\", line 38, in generate_report_task\\n    createdReport = model.save_report(report.id, datasets)\\n  File \"/var/datacontest/analytic/models.py\", line 2006, in save_report\\n    generate_report, template_vars = self.generate_governance_report(\\n  File \"/var/datacontest/analytic/models.py\", line 1967, in generate_governance_report\\n    data = self.get_report_data(modelscore_obj=modelscore,report_id=report_id)\\n  File \"/var/datacontest/analytic/models.py\", line 1818, in get_report_data\\n    data = self.get_regression_report_data(report_id=report_id, modelscore_obj=modelscore_obj)\\n  File \"/var/datacontest/analytic/models.py\", line 1552, in get_regression_report_data\\n    model_health = round(float(modelscore.auc_metric), 2) * 100\\nTypeError: float() argument must be a string or a number, not \\'NoneType\\'\\n', 'distribution_error': False, 'current_date': '2023-05-02', 'production': '', 'regulations': None, 'score_data': None, 'error_traceback_distribution': None, 'binarize_scoring_flag': False, 'model_input_data': None, 'modelscore_compute': False, 'uplodtoAml_resp': None, 'causal_graph': None, 'causal_graph_img': None, 'computing_type': None, 'model_health_range': '{\"Green\":94,\"Yellow\":89,\"Red\":70}', 'applications': None}\n"
     ]
    }
   ],
   "source": [
    "# GET MODEL DETAILS:\n",
    "\n",
    "from mmanager.mmanager import Model\n",
    "model_id = 251\n",
    "detail=Model(secret_key,url).get_details(model_id)\n",
    "print(detail.json())"
   ]
  },
  {
   "cell_type": "code",
   "execution_count": 10,
   "id": "891b2153-5321-4f4d-a1cc-11c16ea92fe8",
   "metadata": {
    "tags": []
   },
   "outputs": [
    {
     "name": "stdout",
     "output_type": "stream",
     "text": [
      "{'id': 467, 'model': 251, 'pred_count': 0, 'created_date': '2023-05-05T11:01:37.563562Z', 'development_dt': '2023-05-05T11:01:37.563584Z', 'metric_type': 'Development Metric', 'cs_metric': '100.0', 'aec_metric': '825.8505601988174', 'sps_metric': '0.08303091595458886', 'sda_metric': '30', 'chi_square_test': 825.85, 'gini_ind': 0.13, 'max_gini': 0.15, 'normalized_gini': 0.85, 'robin_hood': 21.74, 'ks_p_value': 0.17, 'ks_Statistic': 0.0, 'psi_metric': 0.08, 'psi_events': -1.98, 'psi_nonEvents': -2.1, 'stDeviation': 0.81299468, 'meanPred': 2.06411962, 'coeff_of_var': 39.38699428, 'range': '3.9002696691667604', 'r2': 0.70754168, 'mse': 0.37772958, 'rmse': 0.61459709, 'nrmse': 0.1575781, 'mae': 0.45273304, 'mape': 28.797376, 'smape': 24.44024575, 'wape': 0.21985135, 'model_health': 0.71}\n"
     ]
    }
   ],
   "source": [
    "# GET METRIC: \n",
    "from mmanager.mmanager import Model\n",
    "metric = Model(secret_key,url).get_latest_metrics(model_id=251, metric_type=\"Development Metric\")\n",
    "print(metric.json())"
   ]
  },
  {
   "cell_type": "code",
   "execution_count": 15,
   "id": "5595b3d0-5f7d-4768-9275-c8143b95d1b0",
   "metadata": {
    "tags": []
   },
   "outputs": [
    {
     "name": "stderr",
     "output_type": "stream",
     "text": [
      "INFO:2023-05-19 10:47:36,927:mmanager.log_keeper:Report Generation succeed with status code 201\n"
     ]
    },
    {
     "name": "stdout",
     "output_type": "stream",
     "text": [
      "{'error': 'Report generation failed.'}\n"
     ]
    }
   ],
   "source": [
    "# GENERATE MODEL REPORT\n",
    "from mmanager.mmanager import Model\n",
    "model_id = 251 #use model_id number\n",
    "x=Model(secret_key,url).generate_report(model_id)\n",
    "print(x.json())"
   ]
  },
  {
   "cell_type": "code",
   "execution_count": 17,
   "id": "d98b000c-d6e5-4815-b79a-9053273a03bb",
   "metadata": {
    "tags": []
   },
   "outputs": [
    {
     "data": {
      "text/plain": [
       "[{'id': 809,\n",
       "  'type': 'Regression Report',\n",
       "  'created_dt': '2023-05-19 06:46',\n",
       "  'pdf_url': 'https://sandbox.qausal.ai/media/report/report_20230518234606.pdf'}]"
      ]
     },
     "execution_count": 17,
     "metadata": {},
     "output_type": "execute_result"
    }
   ],
   "source": [
    "# GET MODEL REPORT\n",
    "from mmanager.mmanager import Model\n",
    "model_id = 253 #use model_id number\n",
    "all_report = Model(secret_key,url).get_all_reports(model_id=model_id)\n",
    "all_report.json()"
   ]
  },
  {
   "cell_type": "code",
   "execution_count": 19,
   "id": "fcab04e4-f945-4a7b-8385-7f2e1c21838e",
   "metadata": {
    "tags": []
   },
   "outputs": [],
   "source": [
    "# SAVE THE REQUIRED DATA INTO CSV FILES\n",
    "train.to_csv('Train_California_housing.csv',index=False)\n",
    "test.to_csv('Test_California_housing.csv',index=False)\n",
    "actual.to_csv('Actual_California_housing.csv',index=False)\n",
    "preds.to_csv('Preds_California_housing.csv',index=False)"
   ]
  },
  {
   "cell_type": "code",
   "execution_count": 23,
   "id": "4a3a0efc-6da4-422e-9275-7d227470184e",
   "metadata": {
    "tags": []
   },
   "outputs": [
    {
     "name": "stderr",
     "output_type": "stream",
     "text": [
      "INFO:2023-05-05 14:59:08,502:mmanager.log_keeper:Post usecase succeed with status code 201\n"
     ]
    },
    {
     "name": "stdout",
     "output_type": "stream",
     "text": [
      "{'id': 162, 'author': 'bishow', 'created': '2023-05-05T01:25:28.164167-07:00', 'performance_valid': False, 'name': 'California Housing Dataset-testtest3', 'usecase_type': 'Regression', 'computing_type': '', 'description': 'California Housing Dataset', 'source': 'UsecasSource', 'contributor': 'UsecaseContributor', 'image': 'https://sandbox.qausal.ai/media/project/CaliforniaHousing_0W4V6eY.jpg', 'banner': 'https://sandbox.qausal.ai/media/project/CaliforniaHousing_1m2sQuY.jpg', 'is_private': False, 'userdefined_performance': False, 'transparency': True, 'trustability': False, 'explainability': False, 'wit_template_path': None, 'forecasting_template': None, 'notification_emails': [], 'hide_model': False, 'forecasting_db': None, 'table_act': None, 'table_preds': None, 'table_daily_pred': None, 'table_stats': None, 'table_fac_name': None, 'table_metrics': None, 'remote_tables': {}, 'sync_dates': {}, 'series': None, 'condition_one': None, 'condition_two': None, 'condition_three': None, 'condition_four': None, 'action_name': None, 'result_tab': False, 'series_tab': False, 'condition_tab': False, 'performance_tab': False, 'ab_testing_tab': False, 'release_tab': False, 'user_id': 4, 'performance': None}\n"
     ]
    }
   ],
   "source": [
    "# ADD PROJECT/USECASE:\n",
    "from mmanager.mmanager import Usecase\n",
    "data = {\n",
    "    \"name\": \"California Housing Dataset-testtest3\",\n",
    "    \"author\": \"bishow\",\n",
    "    \"description\": \"California Housing Dataset\",\n",
    "    \"source\": \"UsecasSource\",\n",
    "    \"contributor\": \"UsecaseContributor\",\n",
    "    \"transparency\": True,\n",
    "    \"usecase_type\":\"Regression\",\n",
    "    \"image\": 'CaliforniaHousing.jpg' , #path to image file\n",
    "    \"banner\": 'CaliforniaHousing.jpg' , #path to banner file\n",
    "  }\n",
    "try:\n",
    "    x = Usecase(secret_key,url).post_usecase(data)\n",
    "    print(x.json())\n",
    "except Exception as e:\n",
    "    print(str(e))"
   ]
  },
  {
   "cell_type": "code",
   "execution_count": 14,
   "id": "7e770c49-267d-4157-a692-09abaf42efb3",
   "metadata": {
    "tags": []
   },
   "outputs": [
    {
     "name": "stdout",
     "output_type": "stream",
     "text": [
      "[{\"id\": 161, \"name\": \"California Housing Dataset-testtest3\", \"type\": \"Regression\"}, {\"id\": 157, \"name\": \"Delay Prediction in Supply Chain\", \"type\": \"Classification\"}, {\"id\": 154, \"name\": \"California Housing Dataset\", \"type\": \"Regression\"}, {\"id\": 152, \"name\": \"SUV car Purchase Prediction-test-2\", \"type\": \"Classification\"}]\n"
     ]
    }
   ],
   "source": [
    "# GET ALL USECASE UPLOATED BY AUTHENTICATED USER\n",
    "from mmanager.mmanager import Usecase\n",
    "usecases = Usecase(secret_key,url).get_usecases()\n",
    "print(usecases.json())"
   ]
  },
  {
   "cell_type": "code",
   "execution_count": 16,
   "id": "0f4d6e41-d0bd-4aa9-9e74-7bf44df88a89",
   "metadata": {
    "tags": []
   },
   "outputs": [
    {
     "name": "stderr",
     "output_type": "stream",
     "text": [
      "INFO:2023-05-05 14:56:55,303:mmanager.log_keeper:Update usecase succeed with status code 200\n"
     ]
    },
    {
     "name": "stdout",
     "output_type": "stream",
     "text": [
      "{'id': 161, 'author': 'bishow', 'created': '2023-05-05T01:25:34.603627-07:00', 'performance_valid': False, 'name': 'California Housing Dataset-testupdated', 'usecase_type': 'Regression', 'computing_type': '', 'description': 'California Housing Dataset', 'source': 'UsecasSource', 'contributor': 'UsecaseContributor', 'image': 'https://sandbox.qausal.ai/media/project/CaliforniaHousing_e4OVVBm.jpg', 'banner': 'https://sandbox.qausal.ai/media/project/CaliforniaHousing_4OPknAV.jpg', 'is_private': False, 'userdefined_performance': False, 'transparency': True, 'trustability': False, 'explainability': False, 'wit_template_path': None, 'forecasting_template': None, 'notification_emails': [], 'hide_model': False, 'forecasting_db': None, 'table_act': None, 'table_preds': None, 'table_daily_pred': None, 'table_stats': None, 'table_fac_name': None, 'table_metrics': None, 'remote_tables': {}, 'sync_dates': {}, 'series': None, 'condition_one': None, 'condition_two': None, 'condition_three': None, 'condition_four': None, 'action_name': None, 'result_tab': False, 'series_tab': False, 'condition_tab': False, 'performance_tab': False, 'ab_testing_tab': False, 'release_tab': False, 'user_id': 4, 'performance': None}\n"
     ]
    }
   ],
   "source": [
    "# EDIT PROJECT/USECASE:\n",
    "from mmanager.mmanager import Usecase\n",
    "project_id = 161 #use model_id number to update\n",
    "data = {\n",
    "    \"name\": \"California Housing Dataset-testupdated\",\n",
    "    \"author\": \"bishow\",\n",
    "    \"description\": \"California Housing Dataset\",\n",
    "    \"source\": \"UsecasSource\",\n",
    "    \"contributor\": \"UsecaseContributor\",\n",
    "    \"transparency\": True,\n",
    "    \"usecase_type\":\"Regression\",\n",
    "    \"image\": 'CaliforniaHousing.jpg' , #path to image file\n",
    "    \"banner\": 'CaliforniaHousing.jpg' , #path to banner file\n",
    "  }\n",
    "# Usecase(secret_key, url).post_usecase(data)\n",
    "x=Usecase(secret_key, url).patch_usecase(data, project_id)\n",
    "print(x.json())"
   ]
  },
  {
   "cell_type": "code",
   "execution_count": 19,
   "id": "ca563b75-b871-4f33-af23-657fb071309f",
   "metadata": {
    "tags": []
   },
   "outputs": [],
   "source": [
    "# DELETE USECASE\n",
    "from mmanager.mmanager import Usecase\n",
    "project_id = 161 #use project_id number to delete\n",
    "Usecase(secret_key,url).delete_usecase(project_id)"
   ]
  },
  {
   "cell_type": "code",
   "execution_count": 20,
   "id": "e3a99350-cab9-4425-80b8-70ac07ea163b",
   "metadata": {
    "tags": []
   },
   "outputs": [
    {
     "name": "stdout",
     "output_type": "stream",
     "text": [
      "{'id': 154, 'author': 'bishow', 'created': '2023-05-01T07:47:19.120155-07:00', 'performance_valid': False, 'name': 'California Housing Dataset', 'usecase_type': 'Regression', 'computing_type': '', 'description': 'California Housing Dataset', 'source': 'UsecasSource', 'contributor': 'UsecaseContributor', 'image': 'https://sandbox.qausal.ai/media/project/CaliforniaHousing_VEp6HIT.jpg', 'banner': 'https://sandbox.qausal.ai/media/project/CaliforniaHousing_Pkgenig.jpg', 'is_private': False, 'userdefined_performance': False, 'transparency': True, 'trustability': False, 'explainability': False, 'wit_template_path': None, 'forecasting_template': None, 'notification_emails': [], 'hide_model': False, 'forecasting_db': None, 'table_act': None, 'table_preds': None, 'table_daily_pred': None, 'table_stats': None, 'table_fac_name': None, 'table_metrics': None, 'remote_tables': {}, 'sync_dates': {}, 'series': None, 'condition_one': None, 'condition_two': None, 'condition_three': None, 'condition_four': None, 'action_name': None, 'result_tab': False, 'series_tab': False, 'condition_tab': False, 'performance_tab': False, 'ab_testing_tab': False, 'release_tab': False, 'user_id': 4, 'performance': None}\n"
     ]
    }
   ],
   "source": [
    "# GET USE-CASE DETAILS\n",
    "from mmanager.mmanager import Usecase\n",
    "usecase_id = 154\n",
    "usecase_detail = Usecase(secret_key,url).get_detail(usecase_id)\n",
    "print(usecase_detail.json())"
   ]
  },
  {
   "cell_type": "code",
   "execution_count": 21,
   "id": "1f90447e-d8ae-4185-90e5-d4d454d70361",
   "metadata": {
    "tags": []
   },
   "outputs": [
    {
     "name": "stdout",
     "output_type": "stream",
     "text": [
      "[253, 271, 269, 272, 255, 251, 257, 252, 254]\n"
     ]
    }
   ],
   "source": [
    "# LIST ALL MODEL-ID REGISTERED UNDER USECASE:\n",
    "from mmanager.mmanager import Usecase\n",
    "usecase_id = 154\n",
    "model_list = Usecase(secret_key,url).get_models(usecase_id)\n",
    "print(model_list.json())"
   ]
  },
  {
   "cell_type": "code",
   "execution_count": 24,
   "id": "dd0967fa-707c-4765-9e83-038656b3e5fd",
   "metadata": {
    "tags": []
   },
   "outputs": [
    {
     "name": "stderr",
     "output_type": "stream",
     "text": [
      "INFO:2023-05-05 14:59:15,376:mmanager.log_keeper:Model creation succeed with status code 201\n"
     ]
    },
    {
     "name": "stdout",
     "output_type": "stream",
     "text": [
      "{'id': 273, 'model_alias': None, 'transformerType': 'Regression', 'description': None, 'language': 'Python', 'algorithmType': '', 'modelFramework': 'Scikit Learn', 'scoring_file_path': None, 'model_image_path': None, 'model_summary_path': None, 'weight': None, 'health': False, 'plan': False, 'datasetinsertionType': 'Manual', 'model_file_path': None, 'training_dataset': 'https://sandbox.qausal.ai/media/transformer/162/273/datasets/Train_California_housing.csv', 'test_dataset': 'https://sandbox.qausal.ai/media/transformer/162/273/datasets/Test_California_housing.csv', 'pred_dataset': 'https://sandbox.qausal.ai/media/transformer/162/273/datasets/Preds_California_housing.csv', 'actual_dataset': 'https://sandbox.qausal.ai/media/transformer/162/273/datasets/Actual_California_housing.csv', 'modelName': None, 'registryOption': None, 'amlCred': None, 'dataPath': None, 'fetchOption': None, 'externaldb': None, 'target_column': 'MedHouseVal', 'note': 'California Housing', 'model_area': 'finance', 'model_dependencies': 'no', 'model_usage': 'california housing', 'model_adjustment': None, 'model_developer': 'bishow', 'model_approver': 'bishow', 'model_maintenance': 'maintenance', 'documentation_code': None, 'implementation_plateform': None, 'error_traceback': None, 'distribution_error': False, 'current_date': '2023-05-05', 'production': '', 'regulations': None, 'score_data': None, 'error_traceback_distribution': None, 'binarize_scoring_flag': False, 'model_input_data': None, 'modelscore_compute': False, 'uplodtoAml_resp': None, 'causal_graph': None, 'causal_graph_img': None, 'computing_type': None, 'model_health_range': '{\"Green\":94,\"Yellow\":89,\"Red\":70}', 'applications': None}\n"
     ]
    }
   ],
   "source": [
    "# ADD MODEL: NO ML INTEGRATION\n",
    "\n",
    "from mmanager.mmanager import Model\n",
    "# path = '/content/' #path to csv file\n",
    "\n",
    "model_data = {\n",
    "    \"project\": 162, #Project ID or Usecase ID\n",
    "    \"transformerType\": \"Regression\", #Options: Classification, Regression, Forcasting\n",
    "    \"training_dataset\": \"Train_California_housing.csv\", #path to csv file\n",
    "    \"test_dataset\": \"Test_California_housing.csv\", #path to csv file\n",
    "    \"pred_dataset\": \"Preds_California_housing.csv\", #path to csv file\n",
    "    \"actual_dataset\": \"Actual_California_housing.csv\", #path to csv file\n",
    "    \"model_file_path\": \"\", #path to model file\n",
    "    \"target_column\": \"MedHouseVal\", #Target Column\n",
    "    \"note\": \"California Housing\", #Short description of Model\n",
    "    \"model_area\": \"finance\",\n",
    "    \"model_dependencies\": \"no\",\n",
    "    \"model_usage\": \"california housing\",\n",
    "    \"model_audjustment\": \"\",\n",
    "    \"model_developer\": \"bishow\",\n",
    "    \"model_approver\": \"bishow\",\n",
    "    \"model_maintenance\": \"maintenance\",\n",
    "}\n",
    "x=Model(secret_key, url).post_model(model_data)\n",
    "print(x.json())"
   ]
  },
  {
   "cell_type": "code",
   "execution_count": 26,
   "id": "cc0a94cc-14f2-45b2-bc2f-3d0dd292f40a",
   "metadata": {
    "tags": []
   },
   "outputs": [
    {
     "name": "stderr",
     "output_type": "stream",
     "text": [
      "INFO:2023-05-05 14:59:59,303:mmanager.log_keeper:Update model succeed with status code 200\n"
     ]
    },
    {
     "name": "stdout",
     "output_type": "stream",
     "text": [
      "{'id': 273, 'model_alias': None, 'transformerType': 'Regression', 'description': None, 'language': 'Python', 'algorithmType': '', 'modelFramework': 'Scikit Learn', 'scoring_file_path': None, 'model_image_path': 'https://sandbox.qausal.ai/media/transformer/162/273/CaliforniaHousing.jpg', 'model_summary_path': None, 'weight': None, 'health': False, 'plan': False, 'datasetinsertionType': 'Manual', 'model_file_path': None, 'training_dataset': 'https://sandbox.qausal.ai/media/transformer/162/273/datasets/Train_California_housing_Io3nP0p.csv', 'test_dataset': 'https://sandbox.qausal.ai/media/transformer/162/273/datasets/Test_California_housing_JWZ4YfA.csv', 'pred_dataset': 'https://sandbox.qausal.ai/media/transformer/162/273/datasets/Preds_California_housing_cJfmhZF.csv', 'actual_dataset': 'https://sandbox.qausal.ai/media/transformer/162/273/datasets/Actual_California_housing_jhHlEN8.csv', 'modelName': None, 'registryOption': None, 'amlCred': None, 'dataPath': None, 'fetchOption': None, 'externaldb': None, 'target_column': 'MedHouseVal', 'note': 'California', 'model_area': 'Finance', 'model_dependencies': 'api script Model', 'model_usage': 'api script Model', 'model_adjustment': None, 'model_developer': 'api script Model', 'model_approver': 'api script Model', 'model_maintenance': 'api script Model', 'documentation_code': 'api script Model', 'implementation_plateform': 'api script Model', 'error_traceback': None, 'distribution_error': False, 'current_date': '2023-05-05', 'production': '', 'regulations': None, 'score_data': None, 'error_traceback_distribution': None, 'binarize_scoring_flag': False, 'model_input_data': None, 'modelscore_compute': False, 'uplodtoAml_resp': None, 'causal_graph': None, 'causal_graph_img': None, 'computing_type': None, 'model_health_range': '{\"Green\":94,\"Yellow\":89,\"Red\":70}', 'applications': None}\n"
     ]
    }
   ],
   "source": [
    "# UPDATE MODEL: \n",
    "from mmanager.mmanager import Model\n",
    "model_id = 273 #use model_id number to update\n",
    "data = {\n",
    "\t\t\"transformerType\": \"Regression\",\n",
    "\t\t\"target_column\": \"MedHouseVal\",\n",
    "\t\t\"note\": \"California\",\n",
    "\t\t\"model_area\": \"Finance\",\n",
    "\t\t\"model_dependencies\": \"api script Model\",\n",
    "\t\t\"model_usage\": \"api script Model\",\n",
    "\t\t\"model_audjustment\": \"api script Model\",\n",
    "\t\t\"model_developer\": \"api script Model\",\n",
    "\t\t\"model_approver\": \"api script Model\",\n",
    "\t\t\"model_maintenance\": \"api script Model\",\n",
    "\t\t\"documentation_code\": \"api script Model\",\n",
    "\t\t\"implementation_plateform\": \"api script Model\",\n",
    "\t\t\"training_dataset\": \"Train_California_housing.csv\", #path to csv file\n",
    "\t\t\"pred_dataset\": \"Preds_California_housing.csv\", #path to csv file\n",
    "\t\t\"actual_dataset\": \"Actual_California_housing.csv\", #path to csv file\n",
    "\t\t\"test_dataset\": \"Test_California_housing.csv\", #path to csv file\n",
    "\t\t\"model_file_path\":\"\",\n",
    "\t    \"scoring_file_path\":\"\",\n",
    "\t\t\"model_image_path\":\"CaliforniaHousing.jpg\" ,\n",
    "    \t\"model_summary_path\":\"\",\n",
    "\t}\n",
    "x=Model(secret_key, url).patch_model(data, model_id)\n",
    "print(x.json())"
   ]
  },
  {
   "cell_type": "code",
   "execution_count": 27,
   "id": "da78e85b-1cfd-491c-9e09-0aa47a205abb",
   "metadata": {
    "tags": []
   },
   "outputs": [
    {
     "name": "stderr",
     "output_type": "stream",
     "text": [
      "INFO:2023-05-05 15:00:15,910:mmanager.log_keeper:Delete model succeed with status code 204\n"
     ]
    },
    {
     "data": {
      "text/plain": [
       "<Response [204]>"
      ]
     },
     "execution_count": 27,
     "metadata": {},
     "output_type": "execute_result"
    }
   ],
   "source": [
    "# DELETE MODEL: \n",
    "from mmanager.mmanager import Model\n",
    "model_id = 273 #use model_id number to delete\n",
    "Model(secret_key,url).delete_model(model_id)"
   ]
  },
  {
   "cell_type": "code",
   "execution_count": 29,
   "id": "e62d13fc-a5da-4263-856c-167d2df8e2ec",
   "metadata": {
    "tags": []
   },
   "outputs": [
    {
     "name": "stdout",
     "output_type": "stream",
     "text": [
      "[]\n"
     ]
    }
   ],
   "source": [
    "# LIST ALL MODEL-ID REGISTERED UNDER USECASE:\n",
    "from mmanager.mmanager import Usecase\n",
    "usecase_id = 162\n",
    "model_list = Usecase(secret_key,url).get_models(usecase_id)\n",
    "print(model_list.json())"
   ]
  },
  {
   "cell_type": "code",
   "execution_count": 30,
   "id": "97a8e16e-8927-406a-ad63-0d591d1e1655",
   "metadata": {
    "tags": []
   },
   "outputs": [
    {
     "name": "stdout",
     "output_type": "stream",
     "text": [
      "{'id': 251, 'model_alias': None, 'transformerType': 'Regression', 'description': None, 'language': 'Python', 'algorithmType': '', 'modelFramework': 'Scikit Learn', 'scoring_file_path': None, 'model_image_path': None, 'model_summary_path': None, 'weight': None, 'health': False, 'plan': False, 'datasetinsertionType': 'Manual', 'model_file_path': None, 'training_dataset': 'https://sandbox.qausal.ai/media/transformer/154/251/datasets/Train_California_housing.csv', 'test_dataset': 'https://sandbox.qausal.ai/media/transformer/154/251/datasets/Test_California_housing.csv', 'pred_dataset': 'https://sandbox.qausal.ai/media/transformer/154/251/datasets/Preds_California_housing.csv', 'actual_dataset': 'https://sandbox.qausal.ai/media/transformer/154/251/datasets/Actual_California_housing.csv', 'modelName': None, 'registryOption': None, 'amlCred': None, 'dataPath': None, 'fetchOption': None, 'externaldb': None, 'target_column': 'MedHouseVal', 'note': 'California Housing', 'model_area': 'finance', 'model_dependencies': 'no', 'model_usage': 'california housing', 'model_adjustment': None, 'model_developer': 'bishow', 'model_approver': 'bishow', 'model_maintenance': 'maintenance', 'documentation_code': None, 'implementation_plateform': None, 'error_traceback': 'Traceback (most recent call last):\\n  File \"/var/datacontest/datacontest/celery.py\", line 38, in generate_report_task\\n    createdReport = model.save_report(report.id, datasets)\\n  File \"/var/datacontest/analytic/models.py\", line 2006, in save_report\\n    generate_report, template_vars = self.generate_governance_report(\\n  File \"/var/datacontest/analytic/models.py\", line 1967, in generate_governance_report\\n    data = self.get_report_data(modelscore_obj=modelscore,report_id=report_id)\\n  File \"/var/datacontest/analytic/models.py\", line 1818, in get_report_data\\n    data = self.get_regression_report_data(report_id=report_id, modelscore_obj=modelscore_obj)\\n  File \"/var/datacontest/analytic/models.py\", line 1552, in get_regression_report_data\\n    model_health = round(float(modelscore.auc_metric), 2) * 100\\nTypeError: float() argument must be a string or a number, not \\'NoneType\\'\\n', 'distribution_error': False, 'current_date': '2023-05-02', 'production': '', 'regulations': None, 'score_data': None, 'error_traceback_distribution': None, 'binarize_scoring_flag': False, 'model_input_data': None, 'modelscore_compute': False, 'uplodtoAml_resp': None, 'causal_graph': None, 'causal_graph_img': None, 'computing_type': None, 'model_health_range': '{\"Green\":94,\"Yellow\":89,\"Red\":70}', 'applications': None}\n"
     ]
    }
   ],
   "source": [
    "# GET MODEL DETAILS:\n",
    "\n",
    "from mmanager.mmanager import Model\n",
    "model_id = 251\n",
    "detail=Model(secret_key,url).get_details(model_id)\n",
    "print(detail.json())"
   ]
  },
  {
   "cell_type": "code",
   "execution_count": 31,
   "id": "d25318c1-f9a4-4311-9e57-fb1502cc243e",
   "metadata": {
    "tags": []
   },
   "outputs": [
    {
     "name": "stdout",
     "output_type": "stream",
     "text": [
      "{'id': 453, 'model': 251, 'pred_count': 0, 'created_date': '2023-05-03T10:36:30.287911Z', 'development_dt': '2023-05-03T10:36:30.287915Z', 'metric_type': 'Development Metric', 'cs_metric': '100.0', 'aec_metric': '825.8505601988174', 'sps_metric': '0.08303091595458886', 'sda_metric': '30', 'chi_square_test': 825.85, 'gini_ind': 0.13, 'max_gini': 0.15, 'normalized_gini': 0.85, 'robin_hood': 21.74, 'ks_p_value': 0.17, 'ks_Statistic': 0.0, 'psi_metric': 0.08, 'psi_events': -1.98, 'psi_nonEvents': -2.1, 'stDeviation': 0.81299468, 'meanPred': 2.06411962, 'coeff_of_var': 39.38699428, 'range': '3.9002696691667604', 'r2': 0.70754168, 'mse': 0.37772958, 'rmse': 0.61459709, 'nrmse': 0.1575781, 'mae': 0.45273304, 'mape': 28.797376, 'smape': 24.44024575, 'wape': 0.21985135, 'model_health': 0.71}\n"
     ]
    }
   ],
   "source": [
    "# GET METRIC: \n",
    "from mmanager.mmanager import Model\n",
    "metric = Model(secret_key,url).get_latest_metrics(model_id=251, metric_type=\"Development Metric\")\n",
    "print(metric.json())"
   ]
  },
  {
   "cell_type": "code",
   "execution_count": 32,
   "id": "a3582735-ed66-4fe8-a436-73983591c864",
   "metadata": {
    "tags": []
   },
   "outputs": [
    {
     "name": "stderr",
     "output_type": "stream",
     "text": [
      "INFO:2023-05-05 15:02:07,428:mmanager.log_keeper:Report Generation succeed with status code 201\n"
     ]
    },
    {
     "name": "stdout",
     "output_type": "stream",
     "text": [
      "{'error': 'Report generation failed.'}\n"
     ]
    }
   ],
   "source": [
    "# GENERATE MODEL REPORT\n",
    "from mmanager.mmanager import Model\n",
    "model_id = 251 #use model_id number\n",
    "x=Model(secret_key,url).generate_report(model_id)\n",
    "print(x.json())"
   ]
  },
  {
   "cell_type": "code",
   "execution_count": 33,
   "id": "46d0c7f0-0b94-4fb6-af51-cecfa0e84d3b",
   "metadata": {
    "tags": []
   },
   "outputs": [
    {
     "data": {
      "text/plain": [
       "[{'id': 795,\n",
       "  'type': 'Regression Report',\n",
       "  'created_dt': '2023-05-03 10:37',\n",
       "  'pdf_url': 'https://sandbox.qausal.ai/media/report/report_20230503033630.pdf'},\n",
       " {'id': 802,\n",
       "  'type': 'Regression Report',\n",
       "  'created_dt': '2023-05-05 11:02',\n",
       "  'pdf_url': 'https://sandbox.qausal.ai/media/report/report_20230505040137.pdf'}]"
      ]
     },
     "execution_count": 33,
     "metadata": {},
     "output_type": "execute_result"
    }
   ],
   "source": [
    "# GET MODEL REPORT\n",
    "from mmanager.mmanager import Model\n",
    "model_id = 251 #use model_id number\n",
    "all_report = Model(secret_key,url).get_all_reports(model_id=model_id)\n",
    "all_report.json()"
   ]
  },
  {
   "attachments": {},
   "cell_type": "markdown",
   "id": "1e54c04c-99c1-4027-bb57-eea1517f7a88",
   "metadata": {
    "jp-MarkdownHeadingCollapsed": true,
    "tags": []
   },
   "source": [
    "## 5. REgister Model to AzureML\n",
    "\n",
    "credential shoule be : \n",
    "```\n",
    "{\n",
    "    \"subscription_id\": \"<subscription-id>\",\n",
    "    \"resource_group\": \"<resource_group>\",\n",
    "    \"workspace_name\": \"<workspace_name>\",\n",
    "    \"tenant-id\": \"<tenant-id>\",\n",
    "    \"datastore_name\": \"<datastore_name>\"\n",
    "}\n",
    "```"
   ]
  },
  {
   "cell_type": "code",
   "execution_count": 34,
   "id": "566e6d88-5e81-4762-805b-223d30d4b55b",
   "metadata": {
    "tags": []
   },
   "outputs": [
    {
     "name": "stdout",
     "output_type": "stream",
     "text": [
      "{'subscription_id': '6c99df69-0d52-4cc4-9edb-153b2376f21c', 'resource_group': 'mlresource', 'workspace_name': 'mlws', 'tenant-id': '7aefcda1-5226-4d91-804c-b21f5aed1c5f', 'datastore_name': 'workspaceblobstore'}\n"
     ]
    },
    {
     "name": "stderr",
     "output_type": "stream",
     "text": [
      "INFO:2023-05-05 15:04:10,335:mmanager.log_keeper:Model creation succeed with status code 201\n"
     ]
    },
    {
     "name": "stdout",
     "output_type": "stream",
     "text": [
      "{'id': 274, 'model_alias': None, 'transformerType': 'Regression', 'description': None, 'language': 'Python', 'algorithmType': '', 'modelFramework': 'Scikit Learn', 'scoring_file_path': None, 'model_image_path': None, 'model_summary_path': None, 'weight': None, 'health': False, 'plan': False, 'datasetinsertionType': 'Manual', 'model_file_path': 'https://sandbox.qausal.ai/media/transformer/154/274/model_california_housing.pkl', 'training_dataset': 'https://sandbox.qausal.ai/media/transformer/154/274/datasets/Train_California_housing.csv', 'test_dataset': 'https://sandbox.qausal.ai/media/transformer/154/274/datasets/Test_California_housing.csv', 'pred_dataset': 'https://sandbox.qausal.ai/media/transformer/154/274/datasets/Preds_California_housing.csv', 'actual_dataset': 'https://sandbox.qausal.ai/media/transformer/154/274/datasets/Actual_California_housing.csv', 'modelName': None, 'registryOption': '[\"Model\"]', 'amlCred': '{\"subscription_id\": \"6c99df69-0d52-4cc4-9edb-153b2376f21c\", \"resource_group\": \"mlresource\", \"workspace_name\": \"mlws\", \"tenant-id\": \"7aefcda1-5226-4d91-804c-b21f5aed1c5f\", \"datastore_name\": \"workspaceblobstore\"}', 'dataPath': None, 'fetchOption': None, 'externaldb': None, 'target_column': 'MedHouseVal', 'note': '', 'model_area': 'Area API test.', 'model_dependencies': None, 'model_usage': None, 'model_adjustment': None, 'model_developer': None, 'model_approver': None, 'model_maintenance': None, 'documentation_code': None, 'implementation_plateform': None, 'error_traceback': None, 'distribution_error': False, 'current_date': '2023-05-05', 'production': '', 'regulations': None, 'score_data': None, 'error_traceback_distribution': None, 'binarize_scoring_flag': False, 'model_input_data': None, 'modelscore_compute': False, 'uplodtoAml_resp': None, 'causal_graph': None, 'causal_graph_img': None, 'computing_type': None, 'model_health_range': '{\"Green\":94,\"Yellow\":89,\"Red\":70}', 'applications': None}\n"
     ]
    }
   ],
   "source": [
    "# ADD MODEL, UPLOAD DATASETS AND MODEL MANUALLY AND REGISTER TO AZURE ML\n",
    "from mmanager.mmanager import Model\n",
    "path = 'assets' #path to csv file\n",
    "model_data = {\n",
    "    \"project\": 154, #Project ID or Usecase ID\n",
    "    \"transformerType\": \"Regression\", #Options: Classification, Regression, Forcasting\n",
    "    \"training_dataset\": \"Train_California_housing.csv\", #path to csv file\n",
    "    \"test_dataset\": \"Test_California_housing.csv\", #path to csv file\n",
    "    \"pred_dataset\": \"Preds_California_housing.csv\", #path to csv file\n",
    "    \"actual_dataset\": \"Actual_California_housing.csv\", #path to csv file\n",
    "    \"model_file_path\": \"model_california_housing.pkl\", #path to model file\n",
    "    \"target_column\": \"MedHouseVal\", #Target Column\n",
    "    \"note\": \"\", #Short description of Model\n",
    "    \"model_area\": \"Area API test.\"\n",
    "    }\n",
    "\n",
    "ml_options = {\n",
    "    \"credPath\": \"azureml.json\", #Path to Azure ML credential files.\n",
    "    \"datasetinsertionType\": \"Manual\", #Option: AzureML, Manual\n",
    "    \"registryOption\": [\"Model\"], #To register model, add [\"Model\", \"Dataset\"] to register both model and datasets.\n",
    "    \"datasetUploadPath\": \"californiahousing\", #To registere dataset on path.\n",
    "    }\n",
    "x=Model(secret_key, url).post_model(model_data, ml_options)\n",
    "print(x.json())"
   ]
  },
  {
   "cell_type": "code",
   "execution_count": null,
   "id": "245a7dd1-2148-4121-9b50-03201d5b2078",
   "metadata": {},
   "outputs": [],
   "source": []
  }
 ],
 "metadata": {
  "kernelspec": {
   "display_name": "Python 3 (ipykernel)",
   "language": "python",
   "name": "python3"
  },
  "language_info": {
   "codemirror_mode": {
    "name": "ipython",
    "version": 3
   },
   "file_extension": ".py",
   "mimetype": "text/x-python",
   "name": "python",
   "nbconvert_exporter": "python",
   "pygments_lexer": "ipython3",
   "version": "3.8.10"
  }
 },
 "nbformat": 4,
 "nbformat_minor": 5
}
